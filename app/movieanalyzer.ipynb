{
 "cells": [
  {
   "attachments": {},
   "cell_type": "markdown",
   "metadata": {},
   "source": [
    "# MyMDB Analyzer\n",
    "This notebook accesses the IMDb-Scraping pipeline consisting of the webscraper, the database connector and provides a GUI for the interactive visualization.\n",
    "\n",
    "![IMDb Logo](https://upload.wikimedia.org/wikipedia/commons/thumb/6/69/IMDB_Logo_2016.svg/440px-IMDB_Logo_2016.svg.png)\n",
    "\n",
    "[Wikipedia IMDb Definition](https://en.wikipedia.org/wiki/IMDb):\n",
    "\n",
    "IMDb (an acronym for `I`nternet `M`ovie `D`ata`b`ase) is an online database of information related to films, television series, podcasts, home videos, video games, and streaming content online – including cast, production crew and personal biographies [...]\n",
    "\n",
    "This notebook visually explores rankings of movies and actors and "
   ]
  },
  {
   "attachments": {},
   "cell_type": "markdown",
   "metadata": {},
   "source": [
    "## USAGE\n",
    "Step through this notebook manually so everything is executed in order"
   ]
  },
  {
   "attachments": {},
   "cell_type": "markdown",
   "metadata": {},
   "source": [
    "#### OVERCOMING TECHNICAL DIFFICULTIES"
   ]
  },
  {
   "cell_type": "code",
   "execution_count": 1,
   "metadata": {},
   "outputs": [],
   "source": [
    "# workarround for using event_loops in notebooks (ipykernel already uses the global non-reentrant one)\n",
    "import nest_asyncio\n",
    "nest_asyncio.apply()"
   ]
  },
  {
   "cell_type": "markdown",
   "metadata": {},
   "source": [
    "#### Imports"
   ]
  },
  {
   "cell_type": "code",
   "execution_count": 2,
   "metadata": {},
   "outputs": [
    {
     "name": "stdout",
     "output_type": "stream",
     "text": [
      "connecting to db via conn_str: DRIVER=SQL Server;SERVER=localhost;PORT=1433;DATABASE=MyMDB;UID=SA;PWD=Pr0dRdyPw!\n"
     ]
    }
   ],
   "source": [
    "import db\n",
    "import analyze\n",
    "import ui\n",
    "import numpy as np\n",
    "import matplotlib.pyplot as plt"
   ]
  },
  {
   "attachments": {},
   "cell_type": "markdown",
   "metadata": {},
   "source": [
    "### SCRAPING\n",
    "Challenges were respecting the site's scraping rules located in robots.txt, not getting timed out even though we followed through and handling those timeouts as well as handling (rather omitting a ton of) missing/format-inhomogenous data as well as asynchronous caching in python."
   ]
  },
  {
   "cell_type": "code",
   "execution_count": 3,
   "metadata": {},
   "outputs": [
    {
     "name": "stdout",
     "output_type": "stream",
     "text": [
      "top3.pkl   ( 1kb)\n",
      "top5.pkl   ( 1kb)\n",
      "top10.pkl  ( 3kb)\n",
      "top50.pkl  ( 7kb)\n",
      "top100.pkl (39kb)\n"
     ]
    },
    {
     "data": {
      "application/vnd.jupyter.widget-view+json": {
       "model_id": "e154c94293b348c7a8a4270b157106ea",
       "version_major": 2,
       "version_minor": 0
      },
      "text/plain": [
       "VBox(children=(Tab(children=(VBox(children=(ToggleButtons(description='playlist', options=('Top 250', 'Roulett…"
      ]
     },
     "execution_count": 3,
     "metadata": {},
     "output_type": "execute_result"
    },
    {
     "name": "stdout",
     "output_type": "stream",
     "text": [
      "100 movies acquired"
     ]
    }
   ],
   "source": [
    "movies = []\n",
    "import_ui = ui.init_ui(movies)\n",
    "import_ui"
   ]
  },
  {
   "cell_type": "code",
   "execution_count": 5,
   "metadata": {},
   "outputs": [],
   "source": [
    "movies = import_ui.movies\n",
    "# try:\n",
    "#     movies = import_ui.movies\n",
    "# except AttributeError:\n",
    "#     input(\"press enter to continue\")\n",
    "#     movies = import_ui.movies"
   ]
  },
  {
   "attachments": {},
   "cell_type": "markdown",
   "metadata": {},
   "source": [
    "### INSERTION\n",
    "This part was done purely in the SQL Server Backend, using a stored procedure for parsing the insertion data, and taking care of NaN values and the likes.\n",
    "\n",
    "A trigger was used to recursively update the average instead of recomputation over several tables for each new insert."
   ]
  },
  {
   "cell_type": "code",
   "execution_count": 6,
   "metadata": {},
   "outputs": [
    {
     "data": {
      "text/plain": [
       "'no duplicates found'"
      ]
     },
     "execution_count": 6,
     "metadata": {},
     "output_type": "execute_result"
    }
   ],
   "source": [
    "for movie in movies:\n",
    "    try:\n",
    "        db.insert_movie(**movie)\n",
    "    except Exception as e:\n",
    "        print(f\"issue at {movie}\\n{e}\")\n",
    "\"no duplicates found\" if db.check_no_duplicates() else \"duplicates in actors detected\""
   ]
  },
  {
   "attachments": {},
   "cell_type": "markdown",
   "metadata": {},
   "source": [
    "### READING\n",
    "For further analysis the movies are queried back from the db and converted to dataframes"
   ]
  },
  {
   "cell_type": "code",
   "execution_count": 7,
   "metadata": {},
   "outputs": [
    {
     "data": {
      "text/plain": [
       "'movies'"
      ]
     },
     "metadata": {},
     "output_type": "display_data"
    },
    {
     "data": {
      "text/html": [
       "<div>\n",
       "<style scoped>\n",
       "    .dataframe tbody tr th:only-of-type {\n",
       "        vertical-align: middle;\n",
       "    }\n",
       "\n",
       "    .dataframe tbody tr th {\n",
       "        vertical-align: top;\n",
       "    }\n",
       "\n",
       "    .dataframe thead th {\n",
       "        text-align: right;\n",
       "    }\n",
       "</style>\n",
       "<table border=\"1\" class=\"dataframe\">\n",
       "  <thead>\n",
       "    <tr style=\"text-align: right;\">\n",
       "      <th></th>\n",
       "      <th>id</th>\n",
       "      <th>title</th>\n",
       "      <th>year</th>\n",
       "      <th>genre</th>\n",
       "      <th>rating</th>\n",
       "    </tr>\n",
       "  </thead>\n",
       "  <tbody>\n",
       "    <tr>\n",
       "      <th>0</th>\n",
       "      <td>3</td>\n",
       "      <td>The Dark Knight</td>\n",
       "      <td>2008</td>\n",
       "      <td>Action</td>\n",
       "      <td>9.0</td>\n",
       "    </tr>\n",
       "    <tr>\n",
       "      <th>1</th>\n",
       "      <td>4</td>\n",
       "      <td>Der Pate 2</td>\n",
       "      <td>1974</td>\n",
       "      <td>Krimi</td>\n",
       "      <td>9.0</td>\n",
       "    </tr>\n",
       "    <tr>\n",
       "      <th>2</th>\n",
       "      <td>8</td>\n",
       "      <td>Pulp Fiction</td>\n",
       "      <td>1994</td>\n",
       "      <td>Krimi</td>\n",
       "      <td>8.8</td>\n",
       "    </tr>\n",
       "    <tr>\n",
       "      <th>3</th>\n",
       "      <td>9</td>\n",
       "      <td>Der Herr der Ringe: Die Gefährten</td>\n",
       "      <td>2001</td>\n",
       "      <td>Action</td>\n",
       "      <td>8.8</td>\n",
       "    </tr>\n",
       "    <tr>\n",
       "      <th>4</th>\n",
       "      <td>10</td>\n",
       "      <td>Zwei glorreiche Halunken</td>\n",
       "      <td>1966</td>\n",
       "      <td>Abenteuer</td>\n",
       "      <td>8.8</td>\n",
       "    </tr>\n",
       "  </tbody>\n",
       "</table>\n",
       "</div>"
      ],
      "text/plain": [
       "   id                              title  year      genre rating\n",
       "0   3                    The Dark Knight  2008     Action    9.0\n",
       "1   4                         Der Pate 2  1974      Krimi    9.0\n",
       "2   8                       Pulp Fiction  1994      Krimi    8.8\n",
       "3   9  Der Herr der Ringe: Die Gefährten  2001     Action    8.8\n",
       "4  10           Zwei glorreiche Halunken  1966  Abenteuer    8.8"
      ]
     },
     "metadata": {},
     "output_type": "display_data"
    },
    {
     "data": {
      "text/plain": [
       "'actors'"
      ]
     },
     "metadata": {},
     "output_type": "display_data"
    },
    {
     "data": {
      "text/html": [
       "<div>\n",
       "<style scoped>\n",
       "    .dataframe tbody tr th:only-of-type {\n",
       "        vertical-align: middle;\n",
       "    }\n",
       "\n",
       "    .dataframe tbody tr th {\n",
       "        vertical-align: top;\n",
       "    }\n",
       "\n",
       "    .dataframe thead th {\n",
       "        text-align: right;\n",
       "    }\n",
       "</style>\n",
       "<table border=\"1\" class=\"dataframe\">\n",
       "  <thead>\n",
       "    <tr style=\"text-align: right;\">\n",
       "      <th></th>\n",
       "      <th>id</th>\n",
       "      <th>name</th>\n",
       "      <th>age</th>\n",
       "      <th>avg_rating</th>\n",
       "    </tr>\n",
       "  </thead>\n",
       "  <tbody>\n",
       "    <tr>\n",
       "      <th>0</th>\n",
       "      <td>17</td>\n",
       "      <td>Christian Bale</td>\n",
       "      <td>49</td>\n",
       "      <td>8.8</td>\n",
       "    </tr>\n",
       "    <tr>\n",
       "      <th>1</th>\n",
       "      <td>18</td>\n",
       "      <td>Heath Ledger</td>\n",
       "      <td>44</td>\n",
       "      <td>9.0</td>\n",
       "    </tr>\n",
       "    <tr>\n",
       "      <th>2</th>\n",
       "      <td>19</td>\n",
       "      <td>Aaron Eckhart</td>\n",
       "      <td>55</td>\n",
       "      <td>9.0</td>\n",
       "    </tr>\n",
       "    <tr>\n",
       "      <th>3</th>\n",
       "      <td>20</td>\n",
       "      <td>Michael Caine</td>\n",
       "      <td>90</td>\n",
       "      <td>8.8</td>\n",
       "    </tr>\n",
       "    <tr>\n",
       "      <th>4</th>\n",
       "      <td>21</td>\n",
       "      <td>Maggie Gyllenhaal</td>\n",
       "      <td>45</td>\n",
       "      <td>9.0</td>\n",
       "    </tr>\n",
       "  </tbody>\n",
       "</table>\n",
       "</div>"
      ],
      "text/plain": [
       "   id               name  age  avg_rating\n",
       "0  17     Christian Bale   49         8.8\n",
       "1  18       Heath Ledger   44         9.0\n",
       "2  19      Aaron Eckhart   55         9.0\n",
       "3  20      Michael Caine   90         8.8\n",
       "4  21  Maggie Gyllenhaal   45         9.0"
      ]
     },
     "metadata": {},
     "output_type": "display_data"
    },
    {
     "data": {
      "text/plain": [
       "'movie_actors'"
      ]
     },
     "metadata": {},
     "output_type": "display_data"
    },
    {
     "data": {
      "text/html": [
       "<div>\n",
       "<style scoped>\n",
       "    .dataframe tbody tr th:only-of-type {\n",
       "        vertical-align: middle;\n",
       "    }\n",
       "\n",
       "    .dataframe tbody tr th {\n",
       "        vertical-align: top;\n",
       "    }\n",
       "\n",
       "    .dataframe thead th {\n",
       "        text-align: right;\n",
       "    }\n",
       "</style>\n",
       "<table border=\"1\" class=\"dataframe\">\n",
       "  <thead>\n",
       "    <tr style=\"text-align: right;\">\n",
       "      <th></th>\n",
       "      <th>movie_id</th>\n",
       "      <th>actor_id</th>\n",
       "    </tr>\n",
       "  </thead>\n",
       "  <tbody>\n",
       "    <tr>\n",
       "      <th>0</th>\n",
       "      <td>3</td>\n",
       "      <td>17</td>\n",
       "    </tr>\n",
       "    <tr>\n",
       "      <th>1</th>\n",
       "      <td>3</td>\n",
       "      <td>18</td>\n",
       "    </tr>\n",
       "    <tr>\n",
       "      <th>2</th>\n",
       "      <td>3</td>\n",
       "      <td>19</td>\n",
       "    </tr>\n",
       "    <tr>\n",
       "      <th>3</th>\n",
       "      <td>3</td>\n",
       "      <td>20</td>\n",
       "    </tr>\n",
       "    <tr>\n",
       "      <th>4</th>\n",
       "      <td>3</td>\n",
       "      <td>21</td>\n",
       "    </tr>\n",
       "  </tbody>\n",
       "</table>\n",
       "</div>"
      ],
      "text/plain": [
       "   movie_id  actor_id\n",
       "0         3        17\n",
       "1         3        18\n",
       "2         3        19\n",
       "3         3        20\n",
       "4         3        21"
      ]
     },
     "metadata": {},
     "output_type": "display_data"
    },
    {
     "data": {
      "text/plain": [
       "'joined data'"
      ]
     },
     "metadata": {},
     "output_type": "display_data"
    },
    {
     "data": {
      "text/html": [
       "<div>\n",
       "<style scoped>\n",
       "    .dataframe tbody tr th:only-of-type {\n",
       "        vertical-align: middle;\n",
       "    }\n",
       "\n",
       "    .dataframe tbody tr th {\n",
       "        vertical-align: top;\n",
       "    }\n",
       "\n",
       "    .dataframe thead th {\n",
       "        text-align: right;\n",
       "    }\n",
       "</style>\n",
       "<table border=\"1\" class=\"dataframe\">\n",
       "  <thead>\n",
       "    <tr style=\"text-align: right;\">\n",
       "      <th></th>\n",
       "      <th>name</th>\n",
       "      <th>age</th>\n",
       "      <th>avg_rating</th>\n",
       "      <th>movie_id</th>\n",
       "      <th>actor_id</th>\n",
       "      <th>title</th>\n",
       "      <th>year</th>\n",
       "      <th>genre</th>\n",
       "      <th>rating</th>\n",
       "    </tr>\n",
       "  </thead>\n",
       "  <tbody>\n",
       "    <tr>\n",
       "      <th>331</th>\n",
       "      <td>Aamir Khan</td>\n",
       "      <td>58</td>\n",
       "      <td>8.3</td>\n",
       "      <td>84</td>\n",
       "      <td>476</td>\n",
       "      <td>3 Idiots</td>\n",
       "      <td>2009</td>\n",
       "      <td>Komödie</td>\n",
       "      <td>8.3</td>\n",
       "    </tr>\n",
       "    <tr>\n",
       "      <th>2</th>\n",
       "      <td>Aaron Eckhart</td>\n",
       "      <td>55</td>\n",
       "      <td>9.0</td>\n",
       "      <td>3</td>\n",
       "      <td>19</td>\n",
       "      <td>The Dark Knight</td>\n",
       "      <td>2008</td>\n",
       "      <td>Action</td>\n",
       "      <td>9.0</td>\n",
       "    </tr>\n",
       "    <tr>\n",
       "      <th>75</th>\n",
       "      <td>Adam Goldberg</td>\n",
       "      <td>52</td>\n",
       "      <td>8.6</td>\n",
       "      <td>24</td>\n",
       "      <td>162</td>\n",
       "      <td>Der Soldat James Ryan</td>\n",
       "      <td>1998</td>\n",
       "      <td>Drama</td>\n",
       "      <td>8.6</td>\n",
       "    </tr>\n",
       "    <tr>\n",
       "      <th>258</th>\n",
       "      <td>Akemi Yamaguchi</td>\n",
       "      <td>-1</td>\n",
       "      <td>8.5</td>\n",
       "      <td>45</td>\n",
       "      <td>280</td>\n",
       "      <td>Die letzten Glühwürmchen</td>\n",
       "      <td>1988</td>\n",
       "      <td>Animation</td>\n",
       "      <td>8.5</td>\n",
       "    </tr>\n",
       "    <tr>\n",
       "      <th>262</th>\n",
       "      <td>Akira Ishihama</td>\n",
       "      <td>88</td>\n",
       "      <td>8.5</td>\n",
       "      <td>46</td>\n",
       "      <td>284</td>\n",
       "      <td>Harakiri</td>\n",
       "      <td>1962</td>\n",
       "      <td>Action</td>\n",
       "      <td>8.5</td>\n",
       "    </tr>\n",
       "    <tr>\n",
       "      <th>12</th>\n",
       "      <td>Al Pacino</td>\n",
       "      <td>83</td>\n",
       "      <td>9.0</td>\n",
       "      <td>4</td>\n",
       "      <td>24</td>\n",
       "      <td>Der Pate 2</td>\n",
       "      <td>1974</td>\n",
       "      <td>Krimi</td>\n",
       "      <td>9.0</td>\n",
       "    </tr>\n",
       "    <tr>\n",
       "      <th>48</th>\n",
       "      <td>Alan Howard</td>\n",
       "      <td>85</td>\n",
       "      <td>8.8</td>\n",
       "      <td>9</td>\n",
       "      <td>66</td>\n",
       "      <td>Der Herr der Ringe: Die Gefährten</td>\n",
       "      <td>2001</td>\n",
       "      <td>Action</td>\n",
       "      <td>8.8</td>\n",
       "    </tr>\n",
       "    <tr>\n",
       "      <th>308</th>\n",
       "      <td>Alanna Ubach</td>\n",
       "      <td>47</td>\n",
       "      <td>8.3</td>\n",
       "      <td>73</td>\n",
       "      <td>426</td>\n",
       "      <td>Coco: Lebendiger als das Leben</td>\n",
       "      <td>2017</td>\n",
       "      <td>Animation</td>\n",
       "      <td>8.3</td>\n",
       "    </tr>\n",
       "    <tr>\n",
       "      <th>61</th>\n",
       "      <td>Aldo Giuffrè</td>\n",
       "      <td>99</td>\n",
       "      <td>8.8</td>\n",
       "      <td>10</td>\n",
       "      <td>73</td>\n",
       "      <td>Zwei glorreiche Halunken</td>\n",
       "      <td>1966</td>\n",
       "      <td>Abenteuer</td>\n",
       "      <td>8.8</td>\n",
       "    </tr>\n",
       "    <tr>\n",
       "      <th>124</th>\n",
       "      <td>Alec Guinness</td>\n",
       "      <td>109</td>\n",
       "      <td>8.4</td>\n",
       "      <td>29</td>\n",
       "      <td>188</td>\n",
       "      <td>Krieg der Sterne</td>\n",
       "      <td>1977</td>\n",
       "      <td>Action</td>\n",
       "      <td>8.5</td>\n",
       "    </tr>\n",
       "  </tbody>\n",
       "</table>\n",
       "</div>"
      ],
      "text/plain": [
       "                name  age  avg_rating  movie_id  actor_id  \\\n",
       "331       Aamir Khan   58         8.3        84       476   \n",
       "2      Aaron Eckhart   55         9.0         3        19   \n",
       "75     Adam Goldberg   52         8.6        24       162   \n",
       "258  Akemi Yamaguchi   -1         8.5        45       280   \n",
       "262   Akira Ishihama   88         8.5        46       284   \n",
       "12         Al Pacino   83         9.0         4        24   \n",
       "48       Alan Howard   85         8.8         9        66   \n",
       "308     Alanna Ubach   47         8.3        73       426   \n",
       "61      Aldo Giuffrè   99         8.8        10        73   \n",
       "124    Alec Guinness  109         8.4        29       188   \n",
       "\n",
       "                                 title  year      genre rating  \n",
       "331                           3 Idiots  2009    Komödie    8.3  \n",
       "2                      The Dark Knight  2008     Action    9.0  \n",
       "75               Der Soldat James Ryan  1998      Drama    8.6  \n",
       "258           Die letzten Glühwürmchen  1988  Animation    8.5  \n",
       "262                           Harakiri  1962     Action    8.5  \n",
       "12                          Der Pate 2  1974      Krimi    9.0  \n",
       "48   Der Herr der Ringe: Die Gefährten  2001     Action    8.8  \n",
       "308     Coco: Lebendiger als das Leben  2017  Animation    8.3  \n",
       "61            Zwei glorreiche Halunken  1966  Abenteuer    8.8  \n",
       "124                   Krieg der Sterne  1977     Action    8.5  "
      ]
     },
     "metadata": {},
     "output_type": "display_data"
    },
    {
     "data": {
      "text/html": [
       "<div>\n",
       "<style scoped>\n",
       "    .dataframe tbody tr th:only-of-type {\n",
       "        vertical-align: middle;\n",
       "    }\n",
       "\n",
       "    .dataframe tbody tr th {\n",
       "        vertical-align: top;\n",
       "    }\n",
       "\n",
       "    .dataframe thead th {\n",
       "        text-align: right;\n",
       "    }\n",
       "</style>\n",
       "<table border=\"1\" class=\"dataframe\">\n",
       "  <thead>\n",
       "    <tr style=\"text-align: right;\">\n",
       "      <th></th>\n",
       "      <th>age</th>\n",
       "      <th>avg_rating</th>\n",
       "      <th>year</th>\n",
       "    </tr>\n",
       "  </thead>\n",
       "  <tbody>\n",
       "    <tr>\n",
       "      <th>count</th>\n",
       "      <td>366.000000</td>\n",
       "      <td>366.000000</td>\n",
       "      <td>366.00000</td>\n",
       "    </tr>\n",
       "    <tr>\n",
       "      <th>mean</th>\n",
       "      <td>68.663934</td>\n",
       "      <td>8.495355</td>\n",
       "      <td>1989.20765</td>\n",
       "    </tr>\n",
       "    <tr>\n",
       "      <th>std</th>\n",
       "      <td>32.269315</td>\n",
       "      <td>0.184926</td>\n",
       "      <td>21.72280</td>\n",
       "    </tr>\n",
       "    <tr>\n",
       "      <th>min</th>\n",
       "      <td>-1.000000</td>\n",
       "      <td>8.200000</td>\n",
       "      <td>1931.00000</td>\n",
       "    </tr>\n",
       "    <tr>\n",
       "      <th>25%</th>\n",
       "      <td>49.000000</td>\n",
       "      <td>8.300000</td>\n",
       "      <td>1977.00000</td>\n",
       "    </tr>\n",
       "    <tr>\n",
       "      <th>50%</th>\n",
       "      <td>67.000000</td>\n",
       "      <td>8.500000</td>\n",
       "      <td>1994.00000</td>\n",
       "    </tr>\n",
       "    <tr>\n",
       "      <th>75%</th>\n",
       "      <td>88.000000</td>\n",
       "      <td>8.600000</td>\n",
       "      <td>2006.00000</td>\n",
       "    </tr>\n",
       "    <tr>\n",
       "      <th>max</th>\n",
       "      <td>155.000000</td>\n",
       "      <td>9.000000</td>\n",
       "      <td>2019.00000</td>\n",
       "    </tr>\n",
       "  </tbody>\n",
       "</table>\n",
       "</div>"
      ],
      "text/plain": [
       "              age  avg_rating        year\n",
       "count  366.000000  366.000000   366.00000\n",
       "mean    68.663934    8.495355  1989.20765\n",
       "std     32.269315    0.184926    21.72280\n",
       "min     -1.000000    8.200000  1931.00000\n",
       "25%     49.000000    8.300000  1977.00000\n",
       "50%     67.000000    8.500000  1994.00000\n",
       "75%     88.000000    8.600000  2006.00000\n",
       "max    155.000000    9.000000  2019.00000"
      ]
     },
     "metadata": {},
     "output_type": "display_data"
    },
    {
     "data": {
      "text/plain": [
       "'interesting features for actor analysis'"
      ]
     },
     "metadata": {},
     "output_type": "display_data"
    },
    {
     "data": {
      "text/html": [
       "<div>\n",
       "<style scoped>\n",
       "    .dataframe tbody tr th:only-of-type {\n",
       "        vertical-align: middle;\n",
       "    }\n",
       "\n",
       "    .dataframe tbody tr th {\n",
       "        vertical-align: top;\n",
       "    }\n",
       "\n",
       "    .dataframe thead th {\n",
       "        text-align: right;\n",
       "    }\n",
       "</style>\n",
       "<table border=\"1\" class=\"dataframe\">\n",
       "  <thead>\n",
       "    <tr style=\"text-align: right;\">\n",
       "      <th></th>\n",
       "      <th>name</th>\n",
       "      <th>age</th>\n",
       "      <th>appearances</th>\n",
       "      <th>avg_rating</th>\n",
       "    </tr>\n",
       "  </thead>\n",
       "  <tbody>\n",
       "    <tr>\n",
       "      <th>0</th>\n",
       "      <td>Talia Shire</td>\n",
       "      <td>77</td>\n",
       "      <td>1</td>\n",
       "      <td>9.0</td>\n",
       "    </tr>\n",
       "    <tr>\n",
       "      <th>1</th>\n",
       "      <td>Robert De Niro</td>\n",
       "      <td>79</td>\n",
       "      <td>1</td>\n",
       "      <td>9.0</td>\n",
       "    </tr>\n",
       "    <tr>\n",
       "      <th>2</th>\n",
       "      <td>Morgan Freeman</td>\n",
       "      <td>86</td>\n",
       "      <td>1</td>\n",
       "      <td>9.0</td>\n",
       "    </tr>\n",
       "    <tr>\n",
       "      <th>3</th>\n",
       "      <td>Michael V. Gazzo</td>\n",
       "      <td>100</td>\n",
       "      <td>1</td>\n",
       "      <td>9.0</td>\n",
       "    </tr>\n",
       "    <tr>\n",
       "      <th>4</th>\n",
       "      <td>Maggie Gyllenhaal</td>\n",
       "      <td>45</td>\n",
       "      <td>1</td>\n",
       "      <td>9.0</td>\n",
       "    </tr>\n",
       "  </tbody>\n",
       "</table>\n",
       "</div>"
      ],
      "text/plain": [
       "                name  age  appearances  avg_rating\n",
       "0        Talia Shire   77            1         9.0\n",
       "1     Robert De Niro   79            1         9.0\n",
       "2     Morgan Freeman   86            1         9.0\n",
       "3   Michael V. Gazzo  100            1         9.0\n",
       "4  Maggie Gyllenhaal   45            1         9.0"
      ]
     },
     "metadata": {},
     "output_type": "display_data"
    },
    {
     "data": {
      "text/html": [
       "<div>\n",
       "<style scoped>\n",
       "    .dataframe tbody tr th:only-of-type {\n",
       "        vertical-align: middle;\n",
       "    }\n",
       "\n",
       "    .dataframe tbody tr th {\n",
       "        vertical-align: top;\n",
       "    }\n",
       "\n",
       "    .dataframe thead th {\n",
       "        text-align: right;\n",
       "    }\n",
       "</style>\n",
       "<table border=\"1\" class=\"dataframe\">\n",
       "  <thead>\n",
       "    <tr style=\"text-align: right;\">\n",
       "      <th></th>\n",
       "      <th>age</th>\n",
       "      <th>appearances</th>\n",
       "      <th>avg_rating</th>\n",
       "    </tr>\n",
       "  </thead>\n",
       "  <tbody>\n",
       "    <tr>\n",
       "      <th>count</th>\n",
       "      <td>301.000000</td>\n",
       "      <td>301.000000</td>\n",
       "      <td>301.000000</td>\n",
       "    </tr>\n",
       "    <tr>\n",
       "      <th>mean</th>\n",
       "      <td>74.993355</td>\n",
       "      <td>1.132890</td>\n",
       "      <td>8.489037</td>\n",
       "    </tr>\n",
       "    <tr>\n",
       "      <th>std</th>\n",
       "      <td>27.918691</td>\n",
       "      <td>0.426944</td>\n",
       "      <td>0.192820</td>\n",
       "    </tr>\n",
       "    <tr>\n",
       "      <th>min</th>\n",
       "      <td>18.000000</td>\n",
       "      <td>1.000000</td>\n",
       "      <td>8.200000</td>\n",
       "    </tr>\n",
       "    <tr>\n",
       "      <th>25%</th>\n",
       "      <td>55.000000</td>\n",
       "      <td>1.000000</td>\n",
       "      <td>8.300000</td>\n",
       "    </tr>\n",
       "    <tr>\n",
       "      <th>50%</th>\n",
       "      <td>70.000000</td>\n",
       "      <td>1.000000</td>\n",
       "      <td>8.500000</td>\n",
       "    </tr>\n",
       "    <tr>\n",
       "      <th>75%</th>\n",
       "      <td>92.000000</td>\n",
       "      <td>1.000000</td>\n",
       "      <td>8.600000</td>\n",
       "    </tr>\n",
       "    <tr>\n",
       "      <th>max</th>\n",
       "      <td>155.000000</td>\n",
       "      <td>4.000000</td>\n",
       "      <td>9.000000</td>\n",
       "    </tr>\n",
       "  </tbody>\n",
       "</table>\n",
       "</div>"
      ],
      "text/plain": [
       "              age  appearances  avg_rating\n",
       "count  301.000000   301.000000  301.000000\n",
       "mean    74.993355     1.132890    8.489037\n",
       "std     27.918691     0.426944    0.192820\n",
       "min     18.000000     1.000000    8.200000\n",
       "25%     55.000000     1.000000    8.300000\n",
       "50%     70.000000     1.000000    8.500000\n",
       "75%     92.000000     1.000000    8.600000\n",
       "max    155.000000     4.000000    9.000000"
      ]
     },
     "metadata": {},
     "output_type": "display_data"
    }
   ],
   "source": [
    "df_movies = analyze.get_movie_dataframe()\n",
    "df_actors = analyze.get_actors_dataframe()\n",
    "df_movie_actors = analyze.get_movie_actors_dataframe()\n",
    "df_actor_features = analyze.get_actor_feature_dataframe()\n",
    "df_summary = (\n",
    " analyze.get_summary_dataframe()\n",
    " .sort_values(by=\"name\")\n",
    ")\n",
    "\n",
    "display(\"movies\", df_movies.head())\n",
    "display(\"actors\", df_actors.head())\n",
    "display(\"movie_actors\", df_movie_actors.head(5))\n",
    "display(\"joined data\", df_summary.head(10))\n",
    "display(\n",
    "    df_summary\n",
    "    .drop([\"movie_id\", \"actor_id\"], axis=1)\n",
    "    .describe()\n",
    ")\n",
    "display(\"interesting features for actor analysis\", df_actor_features.head())\n",
    "display(df_actor_features.describe())"
   ]
  },
  {
   "attachments": {},
   "cell_type": "markdown",
   "metadata": {},
   "source": [
    "### Visualization\n"
   ]
  },
  {
   "cell_type": "code",
   "execution_count": 11,
   "metadata": {},
   "outputs": [
    {
     "data": {
      "image/png": "[encoded data removed]",
      "text/plain": [
       "<Figure size 640x480 with 9 Axes>"
      ]
     },
     "metadata": {},
     "output_type": "display_data"
    }
   ],
   "source": [
    "analyze.scattermatrix_actors(\n",
    "    df_actor_features.drop(df_actor_features[df_actor_features[\"age\"] == -1].index)\n",
    ")"
   ]
  },
  {
   "attachments": {},
   "cell_type": "markdown",
   "metadata": {},
   "source": [
    "# outlook\n",
    "\n",
    "- scrape random movies and try to classify if a given actor could really make it using the top 250 (interesting outliers for certain actors included in top 250 that say only did a single movie)\n",
    "- try to predict imdb rating"
   ]
  }
 ],
 "metadata": {
  "kernelspec": {
   "display_name": "Python 3",
   "language": "python",
   "name": "python3"
  },
  "language_info": {
   "codemirror_mode": {
    "name": "ipython",
    "version": 3
   },
   "file_extension": ".py",
   "mimetype": "text/x-python",
   "name": "python",
   "nbconvert_exporter": "python",
   "pygments_lexer": "ipython3",
   "version": "3.9.16"
  },
  "orig_nbformat": 4,
  "vscode": {
   "interpreter": {
    "hash": "0fdcfa94459958a1811268fc45e5051706290974ae8e5cdc78ed22a1bb8f8710"
   }
  }
 },
 "nbformat": 4,
 "nbformat_minor": 2
}
